{
 "cells": [
  {
   "cell_type": "code",
   "execution_count": 1,
   "id": "570e1b17",
   "metadata": {},
   "outputs": [],
   "source": [
    "import requests\n",
    "from bs4 import BeautifulSoup\n",
    "import pandas as pd"
   ]
  },
  {
   "cell_type": "code",
   "execution_count": 2,
   "id": "5c6993eb",
   "metadata": {},
   "outputs": [],
   "source": [
    "url = 'https://www.ebay.com/sch/i.html?_from=R40&_trksid=p2334524.m570.l1313&_nkw=nike+romaloes&_sacat=0&LH_TitleDesc=0&Brand=Nike&rt=nc&_odkw=weightlifting+shoes&_osacat=0&_dcat=15709&LH_PrefLoc=1&LH_Complete=1&LH_Sold=1'"
   ]
  },
  {
   "cell_type": "code",
   "execution_count": 11,
   "id": "73d2f079",
   "metadata": {},
   "outputs": [],
   "source": [
    "def get_data(url):\n",
    "    r = requests.get(url)\n",
    "    soup = BeautifulSoup(r.text, 'html.parser')\n",
    "    return soup\n"
   ]
  },
  {
   "cell_type": "code",
   "execution_count": 19,
   "id": "8a837317",
   "metadata": {},
   "outputs": [],
   "source": [
    "def parse(soup):\n",
    "    productslist = []\n",
    "    results = soup.find_all('div', {'class': 's-item__wrapper clearfix'})\n",
    "    for item in results:\n",
    "        product = {\n",
    "            'title': item.find('h3', {'class': 's-item__title s-item__title--has-tags'}).text,\n",
    "            'soldprice': float(item.find('span', {'class': 's-item__price'}).text.replace('$', '').replace(',','').strip()),\n",
    "            'solddate': item.find('div', {'class': 's-item__title--tagblock '}).find('div', {'class': 'POSITIVE'}).text,\n",
    "            'bids': item.find('span', {'class': 's-item__bids s-item__bidCount'}).text,\n",
    "            'link': item.find('a', {'class': 's-item__link'})['href'],\n",
    "        }\n",
    "        productslist.append(products)\n",
    "    return productslist\n",
    "\n"
   ]
  },
  {
   "cell_type": "code",
   "execution_count": 21,
   "id": "76125ad2",
   "metadata": {},
   "outputs": [],
   "source": [
    "def output(productslist):\n",
    "    productsdf = pd.DataFrame(productslist)\n",
    "    productsdf.to_csv('output.csv', index=False)\n",
    "    print('Saved to CSV')\n",
    "    return"
   ]
  },
  {
   "cell_type": "code",
   "execution_count": 22,
   "id": "83d9df00",
   "metadata": {},
   "outputs": [
    {
     "name": "stdout",
     "output_type": "stream",
     "text": [
      "Saved to CSV\n"
     ]
    }
   ],
   "source": [
    "soup = get_data(url)\n",
    "productslist = parse(soup)\n",
    "output(productslist)"
   ]
  },
  {
   "cell_type": "code",
   "execution_count": null,
   "id": "74d3ada2",
   "metadata": {},
   "outputs": [],
   "source": []
  },
  {
   "cell_type": "code",
   "execution_count": null,
   "id": "88410999",
   "metadata": {},
   "outputs": [],
   "source": []
  }
 ],
 "metadata": {
  "kernelspec": {
   "display_name": "Python 3",
   "language": "python",
   "name": "python3"
  },
  "language_info": {
   "codemirror_mode": {
    "name": "ipython",
    "version": 3
   },
   "file_extension": ".py",
   "mimetype": "text/x-python",
   "name": "python",
   "nbconvert_exporter": "python",
   "pygments_lexer": "ipython3",
   "version": "3.8.8"
  }
 },
 "nbformat": 4,
 "nbformat_minor": 5
}
